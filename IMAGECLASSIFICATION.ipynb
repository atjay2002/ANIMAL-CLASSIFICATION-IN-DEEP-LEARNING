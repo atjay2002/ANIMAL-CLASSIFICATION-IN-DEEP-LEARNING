{
  "cells": [
    {
      "cell_type": "markdown",
      "metadata": {
        "id": "view-in-github",
        "colab_type": "text"
      },
      "source": [
        "<a href=\"https://colab.research.google.com/github/atjay2002/ANIMAL-CLASSIFICATION-IN-DEEP-LEARNING/blob/main/IMAGECLASSIFICATION.ipynb\" target=\"_parent\"><img src=\"https://colab.research.google.com/assets/colab-badge.svg\" alt=\"Open In Colab\"/></a>"
      ]
    },
    {
      "cell_type": "code",
      "execution_count": null,
      "metadata": {
        "id": "nhRh97jiaNT9"
      },
      "outputs": [],
      "source": [
        "import matplotlib.pyplot as plt\n",
        "import tensorflow as tf\n",
        "from tensorflow.keras.applications.inception_v3 import InceptionV3\n",
        "from tensorflow.keras.preprocessing.image import ImageDataGenerator\n",
        "from tensorflow.keras.layers import Dense, GlobalAveragePooling2D\n",
        "from tensorflow.keras.models import Model\n",
        "from tensorflow.keras.optimizers import Adam"
      ]
    },
    {
      "cell_type": "markdown",
      "metadata": {
        "id": "kcoJDRw9frFk"
      },
      "source": [
        "Set path to dataset"
      ]
    },
    {
      "cell_type": "code",
      "execution_count": null,
      "metadata": {
        "id": "4QMvSgenfo9X"
      },
      "outputs": [],
      "source": [
        "train_dir = '/content/drive/MyDrive/animal_dataset/train'\n",
        "validation_dir = '/content/drive/MyDrive/animal_dataset/test'"
      ]
    },
    {
      "cell_type": "markdown",
      "metadata": {
        "id": "k3VtAhmKgVez"
      },
      "source": [
        "Setting the parameters"
      ]
    },
    {
      "cell_type": "code",
      "execution_count": null,
      "metadata": {
        "id": "G2JXe-nmgZWB"
      },
      "outputs": [],
      "source": [
        "num_classes = 43\n",
        "image_size = (299, 299)\n",
        "batch_size = 32\n",
        "learning_rate = 0.001\n",
        "epochs = 5"
      ]
    },
    {
      "cell_type": "markdown",
      "metadata": {
        "id": "RQsyMWI_gvbU"
      },
      "source": [
        "Preprocessing and augument the training data"
      ]
    },
    {
      "cell_type": "code",
      "execution_count": null,
      "metadata": {
        "id": "RO1LqrD7g3xC"
      },
      "outputs": [],
      "source": [
        "train_datagen = ImageDataGenerator(\n",
        "    rescale=1./255,\n",
        "    shear_range=0.2,\n",
        "    zoom_range=0.2,\n",
        "    horizontal_flip=True\n",
        ")"
      ]
    },
    {
      "cell_type": "markdown",
      "metadata": {
        "id": "qZsr2yPAhZlN"
      },
      "source": [
        "Preprocess the validation data"
      ]
    },
    {
      "cell_type": "code",
      "execution_count": null,
      "metadata": {
        "id": "CKPfV0DVhfZB"
      },
      "outputs": [],
      "source": [
        "valid_datagen = ImageDataGenerator(rescale=1./255)"
      ]
    },
    {
      "cell_type": "markdown",
      "metadata": {
        "id": "Tmh0bQnIhr7T"
      },
      "source": [
        "Load the inceptionv3 model"
      ]
    },
    {
      "cell_type": "code",
      "execution_count": null,
      "metadata": {
        "colab": {
          "base_uri": "https://localhost:8080/"
        },
        "id": "tGEnOHb2h3yS",
        "outputId": "ecc68605-4251-4da7-8819-f88e5e7d503a"
      },
      "outputs": [
        {
          "name": "stdout",
          "output_type": "stream",
          "text": [
            "Downloading data from https://storage.googleapis.com/tensorflow/keras-applications/inception_v3/inception_v3_weights_tf_dim_ordering_tf_kernels_notop.h5\n",
            "87910968/87910968 [==============================] - 0s 0us/step\n"
          ]
        }
      ],
      "source": [
        "base_model = InceptionV3(weights='imagenet', include_top=False, input_shape=(image_size[0], image_size[1], 3))"
      ]
    },
    {
      "cell_type": "markdown",
      "metadata": {
        "id": "DzOz4dFgicj9"
      },
      "source": [
        "Adding the top layer for the model"
      ]
    },
    {
      "cell_type": "code",
      "execution_count": null,
      "metadata": {
        "id": "m85WwTByicBv"
      },
      "outputs": [],
      "source": [
        "x = base_model.output\n",
        "x = GlobalAveragePooling2D()(x)\n",
        "x = Dense(1024, activation='relu')(x)\n",
        "predictions = Dense(num_classes, activation='softmax')(x)"
      ]
    },
    {
      "cell_type": "markdown",
      "metadata": {
        "id": "CP3Nq4fhjCtD"
      },
      "source": [
        "Combine base model with top layer"
      ]
    },
    {
      "cell_type": "code",
      "execution_count": null,
      "metadata": {
        "id": "oXvLoc1CjJyl"
      },
      "outputs": [],
      "source": [
        "model = Model(inputs=base_model.input, outputs=predictions)"
      ]
    },
    {
      "cell_type": "markdown",
      "metadata": {
        "id": "miNNKwimjiIm"
      },
      "source": [
        "Freeze the layers in base model"
      ]
    },
    {
      "cell_type": "code",
      "execution_count": null,
      "metadata": {
        "id": "w-iyUC9VjqW2"
      },
      "outputs": [],
      "source": [
        "for layer in base_model.layers:\n",
        "  layer.trainable = False"
      ]
    },
    {
      "cell_type": "markdown",
      "metadata": {
        "id": "zCuXQNmdj3AP"
      },
      "source": [
        "Compile the model"
      ]
    },
    {
      "cell_type": "code",
      "execution_count": null,
      "metadata": {
        "id": "xAKbmHSij1uq"
      },
      "outputs": [],
      "source": [
        "model.compile(optimizer=Adam(learning_rate=learning_rate), loss='categorical_crossentropy', metrics=['accuracy'])"
      ]
    },
    {
      "cell_type": "markdown",
      "metadata": {
        "id": "L962hHP7kXCa"
      },
      "source": [
        "Generate the training and validation data from directories"
      ]
    },
    {
      "cell_type": "code",
      "execution_count": null,
      "metadata": {
        "colab": {
          "base_uri": "https://localhost:8080/"
        },
        "id": "-ebiBcvukfti",
        "outputId": "149dfdbb-ba6c-4931-e073-93caf142c085"
      },
      "outputs": [
        {
          "name": "stdout",
          "output_type": "stream",
          "text": [
            "Found 2120 images belonging to 43 classes.\n",
            "Found 430 images belonging to 43 classes.\n"
          ]
        }
      ],
      "source": [
        "train_generator = train_datagen.flow_from_directory(\n",
        "    train_dir,\n",
        "    target_size=image_size,\n",
        "    batch_size=batch_size,\n",
        "    class_mode='categorical'\n",
        ")\n",
        "\n",
        "valid_generator = valid_datagen.flow_from_directory(\n",
        "    validation_dir,\n",
        "    target_size=image_size,\n",
        "    batch_size=batch_size,\n",
        "    class_mode='categorical'\n",
        ")"
      ]
    },
    {
      "cell_type": "markdown",
      "metadata": {
        "id": "TRGKDX8pljl2"
      },
      "source": [
        "Train the model"
      ]
    },
    {
      "cell_type": "code",
      "execution_count": null,
      "metadata": {
        "colab": {
          "background_save": true,
          "base_uri": "https://localhost:8080/"
        },
        "id": "xbwwiXp0ll4B",
        "outputId": "05a32fc6-37e0-4fa8-9864-a7abfe7ebbe0"
      },
      "outputs": [
        {
          "name": "stdout",
          "output_type": "stream",
          "text": [
            "Epoch 1/5\n",
            "66/66 [==============================] - 1201s 18s/step - loss: 1.0867 - accuracy: 0.7371 - val_loss: 0.5278 - val_accuracy: 0.8726\n",
            "Epoch 2/5\n",
            "66/66 [==============================] - 745s 11s/step - loss: 0.2826 - accuracy: 0.9018 - val_loss: 0.5284 - val_accuracy: 0.8774\n",
            "Epoch 3/5\n",
            "66/66 [==============================] - 721s 11s/step - loss: 0.2063 - accuracy: 0.9363 - val_loss: 0.4963 - val_accuracy: 0.8942\n",
            "Epoch 4/5\n",
            "66/66 [==============================] - 721s 11s/step - loss: 0.1573 - accuracy: 0.9502 - val_loss: 0.4841 - val_accuracy: 0.8990\n",
            "Epoch 5/5\n",
            "66/66 [==============================] - 724s 11s/step - loss: 0.1371 - accuracy: 0.9531 - val_loss: 0.4875 - val_accuracy: 0.9062\n"
          ]
        }
      ],
      "source": [
        "historyhistory = model.fit(\n",
        "    train_generator,\n",
        "    steps_per_epoch=train_generator.n // batch_size,\n",
        "    epochs=epochs,\n",
        "    validation_data=valid_generator,\n",
        "    validation_steps=valid_generator.n // batch_size\n",
        ")"
      ]
    },
    {
      "cell_type": "markdown",
      "metadata": {
        "id": "LOx_nTIK4lmD"
      },
      "source": [
        "Testing the model"
      ]
    },
    {
      "cell_type": "code",
      "execution_count": null,
      "metadata": {
        "id": "btH4hhUJsktD"
      },
      "outputs": [],
      "source": [
        "import PIL.Image\n",
        "import numpy as np\n",
        "import tensorflow as tf\n",
        "import matplotlib.pyplot as plt\n",
        "\n",
        "\n",
        "model = tf.keras.models.load_model('/content/drive/MyDrive/inceptionv3_model.h5')\n",
        "\n",
        "\n",
        "class_labels = ['bear', 'bison', 'boar', 'cat', 'chimpanzee', 'cow', 'coyote', 'deer', 'donkey',\n",
        "                'elephant', 'flamingo', 'fox', 'goat', 'goose', 'gorilla', 'grasshopper', 'hamster',\n",
        "                'hare', 'hedgehog', 'hippopotamus', 'hornbill', 'horse', 'hyena', 'kangaroo', 'koala',\n",
        "                'leopard', 'lion', 'lobster', 'moth', 'okapi', 'orangutan', 'ox', 'panda', 'pelecaniformes',\n",
        "                'pig', 'porcupine', 'possum', 'reindeer', 'rhinoceros', 'sheep', 'tiger', 'wolf', 'zebra']\n",
        "\n",
        "\n",
        "def preprocess_image(image_path):\n",
        "    img = PIL.Image.open(image_path)\n",
        "    img = img.resize((299, 299))\n",
        "    img = np.array(img) / 255.0\n",
        "    img = np.expand_dims(img, axis=0)\n",
        "    return img\n",
        "\n",
        "\n",
        "def predict_animal(image_path):\n",
        "    processed_image = preprocess_image(image_path)\n",
        "    predictions = model.predict(processed_image)\n",
        "    predicted_label = class_labels[np.argmax(predictions)]\n",
        "    confidence = np.max(predictions)\n",
        "    return predicted_label, confidence\n",
        "\n",
        "\n",
        "from google.colab import files\n",
        "uploaded = files.upload()\n",
        "\n",
        "uploaded_file_path = list(uploaded.keys())[0]\n",
        "\n",
        "\n",
        "prediction, confidence = predict_animal(uploaded_file_path)\n",
        "\n",
        "\n",
        "img = PIL.Image.open(uploaded_file_path)\n",
        "plt.imshow(img)\n",
        "plt.axis('off')\n",
        "plt.title(f'Prediction: {prediction}\\nConfidence: {confidence:.2%}')\n",
        "plt.show()"
      ]
    },
    {
      "cell_type": "code",
      "execution_count": null,
      "metadata": {
        "id": "0-uTKqQzy3GB"
      },
      "outputs": [],
      "source": []
    }
  ],
  "metadata": {
    "colab": {
      "provenance": [],
      "mount_file_id": "1sf5vicKDENWynbrHvO-qD9FyJYhxpYTR",
      "authorship_tag": "ABX9TyPDXktacStKB+SfRU0XJCvY",
      "include_colab_link": true
    },
    "kernelspec": {
      "display_name": "Python 3",
      "name": "python3"
    },
    "language_info": {
      "name": "python"
    }
  },
  "nbformat": 4,
  "nbformat_minor": 0
}